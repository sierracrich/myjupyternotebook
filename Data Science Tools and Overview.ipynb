{
  "metadata": {
    "kernelspec": {
      "name": "python",
      "display_name": "Python (Pyodide)",
      "language": "python"
    },
    "language_info": {
      "codemirror_mode": {
        "name": "python",
        "version": 3
      },
      "file_extension": ".py",
      "mimetype": "text/x-python",
      "name": "python",
      "nbconvert_exporter": "python",
      "pygments_lexer": "ipython3",
      "version": "3.8"
    }
  },
  "nbformat_minor": 4,
  "nbformat": 4,
  "cells": [
    {
      "cell_type": "markdown",
      "source": "Data Science tools and Overview: Key techniques and Applications",
      "metadata": {}
    },
    {
      "cell_type": "markdown",
      "source": "#Introduction to Data Science Tools\n\nData science is a rapidly growing field that involves the use of various tools and techniques to extract valuable insights from data. In this notebook, we will explore some of the most essential tools used in data science, ranging from data cleaning and manipulation to machine learning and data visualization. \n\nBy the end of this notebook, you'll have a solid understanding of the fundamental tools that help data scientists work efficiently and effectively with large datasets.\n\n### Key Topics:\n- **Data Cleaning**: Preparing raw data for analysis.\n- **Data Visualization**: Creating graphs and charts to represent data.\n- **Machine Learning**: Building predictive models.\n",
      "metadata": {}
    },
    {
      "cell_type": "markdown",
      "source": "# Popular Data Science Languages\n\nData science relies on a variety of programming languages that allow for data manipulation, analysis, and visualization. Some of the most commonly used languages in the field of data science are:\n\n### 1. **Python**\n   - Python is one of the most popular and versatile languages for data science. It's known for its simplicity and extensive libraries like Pandas, NumPy, Matplotlib, and SciPy.\n\n### 2. **R**\n   - R is specifically designed for statistical computing and data analysis. It is widely used by statisticians and data analysts due to its strong statistical capabilities.\n\n### 3. **SQL (Structured Query Language)**\n   - SQL is used to manage and query relational databases. It is an essential language for data extraction, transformation, and manipulation.\n\n### 4. **Java**\n   - Java is a general-purpose programming language that is also used in data science, especially for big data processing frameworks like Apache Hadoop and Apache Spark.\n\n### 5. **Julia**\n   - Julia is a high-performance language for numerical and scientific computing. It’s known for its speed and is gaining traction in the data science community.\n\n### 6. **SAS (Statistical Analysis System)**\n   - SAS is a software suite used for advanced analytics, business intelligence, and data management. It is often used in large organizations for complex statistical analysis.\n\n### 7. **MATLAB**\n   - MATLAB is used for numerical computing and is particularly useful in academic and engineering fields. It is widely used for matrix operations, simulations, and data analysis.\n\n",
      "metadata": {}
    },
    {
      "cell_type": "markdown",
      "source": "# Popular Data Science Libraries\n\nIn data science, libraries are essential for performing tasks such as data manipulation, statistical analysis, and machine learning. Below is a list of some of the most widely used libraries in the field:\n\n1. **Pandas**  \n   - A powerful library for data manipulation and analysis, providing data structures like DataFrames.\n\n2. **NumPy**  \n   - A library for numerical computing in Python, particularly for working with large arrays and matrices.\n\n3. **Matplotlib**  \n   - A widely-used plotting library for creating static, animated, and interactive visualizations in Python.\n\n4. **Scikit-learn**  \n   - A library that provides simple and efficient tools for data mining and machine learning.\n\n5. **Seaborn**  \n   - A statistical data visualization library built on top of Matplotlib, offering a high-level interface for drawing attractive and informative graphics.\n\n6. **TensorFlow**  \n   - An open-source library for numerical computation and large-scale machine learning, especially for deep learning.\n\n7. **Keras**  \n   - A user-friendly API for building and training deep learning models, built on top of TensorFlow.\n\n8. **SciPy**  \n   - A library for scientific and technical computing that builds on NumPy and provides functions for optimization, integration, interpolation, and more.\n\n9. **PyTorch**  \n   - A deep learning framework that provides flexibility and efficiency, often used in both academia and industry for machine learning applications.\n\n10. **Statsmodels**  \n    - A library for statistical modeling, including regression analysis, hypothesis testing, and time-series analysis.\n\n",
      "metadata": {}
    },
    {
      "cell_type": "markdown",
      "source": "# Data Science Tools\n\nBelow is a table of common data science tools used for various tasks such as data manipulation, visualization, and machine learning:\n\n| **Tool**       | **Category**            | **Description**                                                                 |\n|----------------|-------------------------|---------------------------------------------------------------------------------|\n| **Jupyter**    | IDE/Notebook            | An interactive notebook used for data analysis, visualization, and sharing code.|\n| **Python**     | Programming Language    | A versatile programming language widely used for data science and machine learning.|\n| **R**          | Programming Language    | A statistical programming language used for data analysis and visualization.     |\n| **Pandas**     | Library (Python)        | A library for data manipulation and analysis, particularly for structured data.  |\n| **NumPy**      | Library (Python)        | A library for numerical computing and array manipulation.                       |\n| **Matplotlib** | Library (Python)        | A library for creating static, animated, and interactive visualizations.        |\n| **TensorFlow** | Framework (Python)      | An open-source library for deep learning and machine learning.                   |\n| **Tableau**    | Data Visualization Tool | A visual analytics platform for creating interactive visualizations and dashboards.|\n| **SQL**        | Query Language          | A language used to query and manipulate relational databases.                   |\n| **Apache Spark** | Big Data Processing   | A unified analytics engine for big data processing and machine learning.        |\n| **Power BI**   | Data Visualization Tool | A Microsoft tool for creating business intelligence reports and dashboards.      |\n\n",
      "metadata": {}
    },
    {
      "cell_type": "markdown",
      "source": "# Arithmetic Expression Examples\n\nIn data science and programming, arithmetic expressions are used to perform mathematical operations such as addition, subtraction, multiplication, and division. Below are some common examples of arithmetic expressions:\n\n### 1. **Addition**\n   - Adding two numbers together.\n   ```python\n   5 + 3  # Result: 8\n",
      "metadata": {}
    },
    {
      "cell_type": "markdown",
      "source": "# Example: Multiply and Add Numbers\n\n# Multiplying two numbers\nmultiplication_result = 5 * 7\nprint(\"Multiplication Result:\", multiplication_result)\n\n# Adding two numbers\naddition_result = 10 + 3\nprint(\"Addition Result:\", addition_result)\n",
      "metadata": {}
    },
    {
      "cell_type": "markdown",
      "source": "# Convert minutes to hours\n\n# Function to convert minutes to hours\ndef convert_minutes_to_hours(minutes):\n    hours = minutes / 60\n    return hours\n\n# Example: Convert 150 minutes to hours\nminutes = 150\nhours = convert_minutes_to_hours(minutes)\nprint(f\"{minutes} minutes is equal to {hours} hours.\")\n",
      "metadata": {}
    },
    {
      "cell_type": "markdown",
      "source": "150 minutes is equal to 2.5 hours.\n\n",
      "metadata": {}
    },
    {
      "cell_type": "markdown",
      "source": "# Objectives\n\nThe main objectives of this notebook are to:\n\n1. **Understand Basic Arithmetic Operations**  \n   - Learn how to perform basic arithmetic operations like addition, subtraction, multiplication, and division.\n\n2. **Learn How to Use Python for Data Science**  \n   - Get introduced to Python's syntax and libraries used for data manipulation, analysis, and visualization.\n\n3. **Explore Data Science Tools and Libraries**  \n   - Familiarize yourself with popular data science tools and libraries such as Pandas, NumPy, Matplotlib, and Scikit-learn.\n\n4. **Understand Unit Conversions**  \n   - Learn how to perform unit conversions, such as converting minutes to hours.\n\n5. **Build Problem-Solving Skills**  \n   - Develop problem-solving skills by applying mathematical and programming concepts to solve real-world data problems.\n",
      "metadata": {}
    },
    {
      "cell_type": "markdown",
      "source": "# Author\n\nThis notebook was created by:\n\n**Sierra Richardson**\n",
      "metadata": {}
    },
    {
      "cell_type": "code",
      "source": "",
      "metadata": {
        "trusted": true
      },
      "outputs": [],
      "execution_count": null
    },
    {
      "cell_type": "code",
      "source": "",
      "metadata": {
        "trusted": true
      },
      "outputs": [],
      "execution_count": null
    }
  ]
}